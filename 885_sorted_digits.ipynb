{
 "cells": [
  {
   "cell_type": "markdown",
   "metadata": {},
   "source": [
    "# Problem 885"
   ]
  },
  {
   "cell_type": "markdown",
   "metadata": {},
   "source": [
    "We define $S(n)$ as:\n",
    "\n",
    "$$\n",
    "S(n) = \\sum_{d \\in C(n)} d* \\#P_d\n",
    "$$\n",
    "\n",
    "Where $C(n)$ is the set of all increasing sequences of $n$ numbers from $0$ to $9$, and $\\#P_d$ is the number of unique partitions formed with $d$, where we always extend $d$ to have $n$ digits by appending $0$'s at the end."
   ]
  },
  {
   "cell_type": "code",
   "execution_count": 34,
   "metadata": {},
   "outputs": [
    {
     "name": "stdout",
     "output_type": "stream",
     "text": [
      "S(18) mod (1123455689) = 827850196\n"
     ]
    },
    {
     "data": {
      "text/plain": [
       "827850196"
      ]
     },
     "execution_count": 34,
     "metadata": {},
     "output_type": "execute_result"
    }
   ],
   "source": [
    "import itertools\n",
    "import math\n",
    "from collections import Counter\n",
    "\n",
    "MODULO = 1123455689\n",
    "\n",
    "\n",
    "def get_permutations_count(number, number_of_digits, modulo):\n",
    "    \"\"\"#P_d, d=number\"\"\"\n",
    "    digits = list(str(number))\n",
    "\n",
    "    if len(digits) < number_of_digits:\n",
    "        digits += [\"0\"] * (number_of_digits - len(digits))\n",
    "\n",
    "    # Total number of digits\n",
    "    n = len(digits)\n",
    "\n",
    "    # Frequency of each digit\n",
    "    digit_counts = Counter(digits)\n",
    "\n",
    "    # Calculate the number of unique permutations\n",
    "    num_permutations = math.factorial(n) // math.prod(\n",
    "        math.factorial(count) for count in digit_counts.values()\n",
    "    )\n",
    "    if modulo is not None and num_permutations >= modulo:\n",
    "        num_permutations = num_permutations % modulo\n",
    "\n",
    "    return num_permutations\n",
    "\n",
    "\n",
    "def generate_combinations_and_permutations(number_of_digits, modulo):\n",
    "    \"\"\"C(number_of_digits)\"\"\"\n",
    "    # Generate all increasing sequences of number_of_digits numbers from 0 to 9\n",
    "    sequences_perm = {}\n",
    "    for seq in list(\n",
    "        itertools.combinations_with_replacement(range(10), number_of_digits)\n",
    "    )[\n",
    "        1:\n",
    "    ]:  # dont count 0,0...,0\n",
    "        seq = int(\"\".join(map(str, seq)))\n",
    "        partitions_count = get_permutations_count(seq, number_of_digits, modulo)\n",
    "        # if modulo is not None and seq >= modulo:\n",
    "        #     print(seq, partitions_count)\n",
    "        #     seq = seq % modulo\n",
    "        #     print(seq, partitions_count)\n",
    "\n",
    "        sequences_perm[seq] = partitions_count\n",
    "    return sequences_perm\n",
    "\n",
    "\n",
    "def S(number_of_digits, modulo=None):\n",
    "    sequences_perm = generate_combinations_and_permutations(number_of_digits, modulo)\n",
    "    output = 0\n",
    "    for d, permutations_count in sequences_perm.items():\n",
    "        output += (d % modulo if modulo is not None else d) * permutations_count\n",
    "        if modulo is not None and output >= modulo:\n",
    "            output = output % modulo\n",
    "    if modulo is not None:\n",
    "        print(f\"S({number_of_digits}) mod ({modulo}) = {output}\")\n",
    "    else:\n",
    "        print(f\"S({number_of_digits}) = {output}\")\n",
    "    return output\n",
    "\n",
    "\n",
    "S(18, MODULO)"
   ]
  },
  {
   "cell_type": "markdown",
   "metadata": {},
   "source": [
    "## Formula\n",
    "$$\n",
    "S(n) = \\frac{1}{9} \\sum_{d=1}^9 (10+9d)^n - 10^n\n",
    "$$"
   ]
  },
  {
   "cell_type": "code",
   "execution_count": 75,
   "metadata": {},
   "outputs": [
    {
     "name": "stdout",
     "output_type": "stream",
     "text": [
      "S(18) mod 1123455689 = 827850196\n",
      "S(10^0) mod 1123455689 = 45\n",
      "S(10^1) mod 1123455689 = 297530190\n",
      "S(10^2) mod 1123455689 = 968913702\n",
      "S(10^3) mod 1123455689 = 499556087\n",
      "S(10^4) mod 1123455689 = 928070597\n",
      "S(10^5) mod 1123455689 = 146939831\n",
      "S(10^6) mod 1123455689 = 853253525\n"
     ]
    }
   ],
   "source": [
    "def calculate_exponentiation(base, exponent, modulo):\n",
    "    output = 1\n",
    "    base_modulo = base % modulo\n",
    "    for _ in range(exponent):\n",
    "        output *= base_modulo\n",
    "        output %= modulo\n",
    "    return output\n",
    "\n",
    "\n",
    "def S2(n, modulo):\n",
    "    output = 0\n",
    "    for d in range(1, 10):\n",
    "        output += (10 + 9 * d) ** n\n",
    "    output //= 9\n",
    "    output -= calculate_exponentiation(10, n, modulo)\n",
    "    output = (output + modulo) % modulo\n",
    "    return output\n",
    "\n",
    "\n",
    "print(f\"S(18) mod {MODULO} = {S2(18, MODULO)}\")\n",
    "\n",
    "for d in range(7):\n",
    "    n = 10**d\n",
    "    print(f\"S(10^{d}) mod {MODULO} = {S2(n, MODULO)}\")"
   ]
  }
 ],
 "metadata": {
  "kernelspec": {
   "display_name": "Python 3",
   "language": "python",
   "name": "python3"
  },
  "language_info": {
   "codemirror_mode": {
    "name": "ipython",
    "version": 3
   },
   "file_extension": ".py",
   "mimetype": "text/x-python",
   "name": "python",
   "nbconvert_exporter": "python",
   "pygments_lexer": "ipython3",
   "version": "3.12.3"
  }
 },
 "nbformat": 4,
 "nbformat_minor": 2
}
